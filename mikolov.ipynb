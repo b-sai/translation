{
 "cells": [
  {
   "cell_type": "markdown",
   "metadata": {},
   "source": [
    "# Formatting"
   ]
  },
  {
   "cell_type": "code",
   "execution_count": 1,
   "metadata": {},
   "outputs": [],
   "source": [
    "from gensim.models import Word2Vec, KeyedVectors\n",
    "\n",
    "# load trained vectors from hopper\n",
    "y_mod = KeyedVectors.load_word2vec_format(\n",
    "    'word vectors/vec3.txt', binary=True)\n",
    "x_mod = KeyedVectors.load_word2vec_format(\n",
    "    'word vectors/comb2.txt', binary=False)\n"
   ]
  },
  {
   "cell_type": "code",
   "execution_count": 19,
   "metadata": {},
   "outputs": [
    {
     "data": {
      "text/plain": [
       "[('iago', 0.8887432217597961),\n",
       " ('desdemona', 0.850729763507843),\n",
       " ('emilia', 0.8410863280296326),\n",
       " ('benedick', 0.7387511730194092),\n",
       " ('cassio', 0.7373813986778259),\n",
       " ('cleopatra', 0.7248365879058838),\n",
       " ('beatrice', 0.7118133306503296),\n",
       " ('iachimo', 0.6699647903442383),\n",
       " ('cressida', 0.6661145091056824),\n",
       " ('cloten', 0.6660417318344116)]"
      ]
     },
     "execution_count": 19,
     "metadata": {},
     "output_type": "execute_result"
    }
   ],
   "source": [
    "x_mod.most_similar(\"othello\")"
   ]
  },
  {
   "cell_type": "code",
   "execution_count": 55,
   "metadata": {},
   "outputs": [],
   "source": [
    "trnsln = {}\n",
    "with open(\"translation_seed/train\") as tr:\n",
    "    for item in tr:\n",
    "        item = item.rstrip().split(\" \")\n",
    "        trnsln[item[0]] = item[1]\n",
    "\n",
    "test = {}\n",
    "with open(\"translation_seed/test\") as tr:\n",
    "    for item in tr:\n",
    "        item = item.rstrip().split(\" \")\n",
    "        test[item[0]] = item[1]\n"
   ]
  },
  {
   "cell_type": "code",
   "execution_count": 32,
   "metadata": {},
   "outputs": [],
   "source": [
    "import numpy as np\n",
    "# build matrices to begin SGD. Makes two matrices x and y with words from\n",
    "# translation seed\n",
    "vec_size_y = 100\n",
    "vec_size_x = 100\n",
    "num_words = len(list(trnsln.keys()))\n",
    "yVals = np.zeros((num_words*vec_size_y)).reshape((num_words, vec_size_y))\n",
    "xVals = np.zeros((num_words*vec_size_x)).reshape((num_words, vec_size_x))\n",
    "i = 0\n",
    "for key in trnsln:\n",
    "    xVals[i] = x_mod[key]   # get shakespeare data\n",
    "    yVals[i] = y_mod[trnsln[key]]# get modern english words of translated data from shakespeare\n",
    "    i += 1\n",
    "\n",
    "lossList = []\n",
    "\n"
   ]
  },
  {
   "cell_type": "code",
   "execution_count": 33,
   "metadata": {},
   "outputs": [
    {
     "data": {
      "text/plain": [
       "374"
      ]
     },
     "execution_count": 33,
     "metadata": {},
     "output_type": "execute_result"
    }
   ],
   "source": [
    "len(trnsln)"
   ]
  },
  {
   "cell_type": "markdown",
   "metadata": {},
   "source": [
    "# Training"
   ]
  },
  {
   "cell_type": "code",
   "execution_count": 34,
   "metadata": {},
   "outputs": [],
   "source": [
    "def get_gradient(x, y, A):\n",
    "    grads = []\n",
    "    res = np.matmul(x, A)-y\n",
    "\n",
    "    for i in range(vec_size_x):\n",
    "        for j in range(len(res)):\n",
    "            grads.append(2*res[j]*x[i])\n",
    "\n",
    "    grads = np.asarray(grads).reshape(vec_size_x, vec_size_y)\n",
    "    return grads\n",
    "\n",
    "\n",
    "def get_loss(vec1, vec2, A):\n",
    "    return np.linalg.norm((np.matmul(vec1, A) - vec2))\n",
    "\n",
    "\n",
    "def train(iters):\n",
    "    global A\n",
    "    for i in range(iters):\n",
    "        grad = 0\n",
    "        loss = 0\n",
    "\n",
    "        for x, y in zip(xVals, yVals):\n",
    "            grad += get_gradient(x, y, A)\n",
    "            loss += get_loss(x, y, A)\n",
    "\n",
    "        lossList.append(loss)\n",
    "        A = A + (-1*epsilon*grad)\n",
    "        if i % 10 == 0:\n",
    "            print(i, lossList[-1])\n"
   ]
  },
  {
   "cell_type": "code",
   "execution_count": 35,
   "metadata": {},
   "outputs": [],
   "source": [
    "# set hyperparamters\n",
    "\n",
    "epsilon = .0001\n",
    "lossList = []\n",
    "A = np.random.rand(vec_size_x, vec_size_y)\n"
   ]
  },
  {
   "cell_type": "code",
   "execution_count": 36,
   "metadata": {},
   "outputs": [
    {
     "name": "stdout",
     "output_type": "stream",
     "text": [
      "0 31449.465991773563\n",
      "10 6664.817786231955\n",
      "20 3560.1263124956513\n",
      "30 2534.8319876837927\n",
      "40 2145.1720966591165\n",
      "50 1985.633931657568\n"
     ]
    }
   ],
   "source": [
    "train(60)"
   ]
  },
  {
   "cell_type": "markdown",
   "metadata": {},
   "source": [
    "# Test"
   ]
  },
  {
   "cell_type": "code",
   "execution_count": 41,
   "metadata": {},
   "outputs": [],
   "source": [
    "# util functions\n",
    "\n",
    "def levenshtein(s1, s2):\n",
    "    if len(s1) < len(s2):\n",
    "        return levenshtein(s2, s1)\n",
    "\n",
    "    # len(s1) >= len(s2)\n",
    "    if len(s2) == 0:\n",
    "        return len(s1)\n",
    "\n",
    "    previous_row = range(len(s2) + 1)\n",
    "    for i, c1 in enumerate(s1):\n",
    "        current_row = [i + 1]\n",
    "        for j, c2 in enumerate(s2):\n",
    "            # j+1 instead of j since previous_row and current_row are one character longer\n",
    "            insertions = previous_row[j + 1] + 1\n",
    "            deletions = current_row[j] + 1       # than s2\n",
    "            substitutions = previous_row[j] + (c1 != c2)\n",
    "            current_row.append(min(insertions, deletions, substitutions))\n",
    "        previous_row = current_row\n",
    "\n",
    "    return previous_row[-1]\n",
    "\n",
    "\n",
    "def getLevenshtein(target, editDistanceList):\n",
    "    result = []\n",
    "    if len(editDistanceList) == 0:\n",
    "        return result\n",
    "    for i in range(len(editDistanceList)):\n",
    "        output = levenshtein(target, editDistanceList[i])\n",
    "        result.append(output)\n",
    "    return result\n",
    "\n",
    "def cosine_similarity(x,y):\n",
    "    cosine_similarity = np.dot(x, y)/(\n",
    "        np.linalg.norm(x) * np.linalg.norm(y))\n",
    "    return cosine_similarity\n",
    "\n",
    "def getPreds(key):\n",
    "    results = []\n",
    "    sim_res = y_mod.most_similar(positive=np.matmul(x_mod[key], A), topn=150)\n",
    "    sim_res = [res[0] for res in sim_res]\n",
    "    edit_dists = getLevenshtein(value, sim_res)\n",
    "    for i in range(len(edit_dists)):\n",
    "        if edit_dists[i] <= 2 or cosine_similarity(np.matmul(x_mod[key], A), y_mod[sim_res[i]]) > .7:\n",
    "            results.append(sim_res[i])\n",
    "    if len(results) == 0:\n",
    "        sim_res = y_mod.most_similar(\n",
    "            positive=np.matmul(x_mod[key], A), topn=5)\n",
    "        sim_res = [res[0] for res in sim_res]\n",
    "        return sim_res\n",
    "    return results\n",
    "\n",
    "        \n",
    "        \n"
   ]
  },
  {
   "cell_type": "code",
   "execution_count": 42,
   "metadata": {},
   "outputs": [
    {
     "name": "stdout",
     "output_type": "stream",
     "text": [
      "Old          | Modern        | predictions\n",
      "lov'd        | loved         | ['afraid', 'loved', 'told', 'hadn', 'wouldn']          | True\n",
      "ne'er        | never         | ['never']                                              | True\n",
      "dost         | do            | ['does', 'say', 'thing', 'goodness', 'shouldn']        | True\n",
      "doth         | does          | ['say', 'shouldn', 'does', 'do', 'isn']                | True\n",
      "thyself      | yourself      | ['yourself', 'you', 'your', 'shouldn', 'want']         | True\n",
      "pleas'd      | pleased       | ['forgot', 'afraid', 'lovely', 'replied', 'pleased']   | True\n",
      "hath         | have          | ['has', 'had', 'have', 'hated', 'rare']                | True\n",
      "thine        | yours         | ['your', 'you', 'yourself', 'my', 'nobody']            | True\n",
      "exeunt       | exit          | ['exit', 'wait', 'sit']                                | True\n",
      "speakest     | speak         | ['hath', 'says', 'speaks', 'swear']                    | False\n",
      "sayest       | say           | ['says', 'truth', 'unto', 'say', 'sin']                | True\n",
      "Correct: 10\n",
      "Incorrect: 1\n",
      "Accuracy: 0.9090909090909091\n"
     ]
    }
   ],
   "source": [
    "# test old english specific\n",
    "\n",
    "old_test = {}\n",
    "old_test[\"lov'd\"] = \"loved\"\n",
    "old_test[\"ne'er\"] = \"never\"\n",
    "old_test[\"dost\"] = \"do\"\n",
    "old_test[\"doth\"] = \"does\"\n",
    "old_test[\"thyself\"] = \"yourself\"\n",
    "old_test[\"pleas'd\"] = \"pleased\"\n",
    "old_test[\"hath\"] = \"have\"\n",
    "old_test[\"thine\"] = \"yours\"\n",
    "old_test[\"exeunt\"] = \"exit\"\n",
    "old_test[\"speakest\"] = \"speak\"\n",
    "old_test[\"sayest\"] = \"say\"\n",
    "\n",
    "good = 0\n",
    "bad = 0\n",
    "print(f\"Old          | Modern        | predictions\")\n",
    "dist = 2\n",
    "for key,value in old_test.items():\n",
    "    preds = getPreds(key)\n",
    "    print(f\"{key:<12} | {value:<12}  | {str(preds[:5]):<54} | {value in preds}\")\n",
    "\n",
    "    if value in preds:\n",
    "        good+=1\n",
    "    else:\n",
    "        bad+=1\n",
    "\n",
    "print(f\"Correct: {good}\\nIncorrect: {bad}\\nAccuracy: {good/(good+bad)}\")\n"
   ]
  },
  {
   "cell_type": "code",
   "execution_count": 47,
   "metadata": {},
   "outputs": [
    {
     "name": "stdout",
     "output_type": "stream",
     "text": [
      "Old          | Modern        | predictions                                            | Accuracy\n",
      "a            | a             | ['barely', 'vanity', 'reaching', 'continually', 'remarkably'] | Incorrect\n",
      "i            | i             | ['myself', 'hadn', 'me', 'wouldn', 'afraid']           | Incorrect\n",
      "it           | it            | ['nothing', 'says', 'thing', 'surely', 'really']       | Incorrect\n",
      "but          | but           | ['therefore', 'indeed', 'moreover', 'nor', 'somehow']  | Incorrect\n",
      "when         | when          | ['once', 'never', 'seemed', 'wrongly', 'faded']        | Correct\n",
      "upon         | upon          | ['alarmed', 'impending', 'terror', 'imminent', 'visibly'] | Incorrect\n",
      "before       | before        | ['altogether', 'despite', 'firstly', 'disappointing', 'previous'] | Incorrect\n",
      "world        | world         | ['paradise', 'darkness', 'eternity', 'apocalypse', 'antichrist'] | Incorrect\n",
      "most         | most          | ['regarded', 'archetype', 'popular', 'imagination', 'perhaps'] | Incorrect\n",
      "think        | think         | ['say', 'really', 'always', 'might', 'seem']           | Incorrect\n",
      "done         | done          | ['sure', 'anything', 'should', 'whatever', 'else']     | Incorrect\n",
      "poor         | poor          | ['loving', 'likes', 'belushi', 'idol', 'parton']       | Incorrect\n",
      "second       | second        | ['third', 'first', 'second', 'longest', 'fourth']      | Correct\n",
      "light        | light         | ['forever', 'eternal', 'heaven', 'glory', 'unto']      | Incorrect\n",
      "dead         | dead          | ['alive', 'cried', 'pity', 'loved', 'beloved']         | Incorrect\n",
      "off          | off           | ['quickly', 'down', 'back', 'drove', 'pushed']         | Incorrect\n",
      "scene        | scene         | ['ante', 'proclamation', 'awaiting', 'tyler', 'enters'] | Incorrect\n",
      "full         | full          | ['wells', 'weir', 'immense', 'backdrop', 'paradise']   | Incorrect\n",
      "use          | use           | ['keep', 'make', 'easy', 'easier', 'learn']            | Incorrect\n",
      "nay          | no            | ['else', 'perfectly', 'sure', 'if', 'so']              | Incorrect\n",
      "itself       | itself        | ['essence', 'goodness', 'eternal', 'afterlife', 'intrinsic'] | Incorrect\n",
      "save         | save          | ['afraid', 'told', 'knowing', 'vain', 'miserable']     | Incorrect\n",
      "heard        | heard         | ['saying', 'never', 'mistaken', 'told', 'knew']        | Incorrect\n",
      "times        | times         | ['hundred', 'thousand', 'seventy', 'twenty', 'forty']  | Incorrect\n",
      "woman        | woman         | ['woman', 'herself', 'husband', 'she', 'her']          | Correct\n",
      "Accuracy: 0.12 3 25\n"
     ]
    }
   ],
   "source": [
    "# raw preds\n",
    "\n",
    "def corr(value, preds):\n",
    "    if value in preds:\n",
    "        return \"Correct\"\n",
    "    else:\n",
    "        return \"Incorrect\"\n",
    "\n",
    "\n",
    "good = 0\n",
    "bad = 0\n",
    "print(f\"Old          | Modern        | {'predictions':<54} | Accuracy\")\n",
    "dist = 2\n",
    "correct = 0\n",
    "total = 0\n",
    "for key, value in test.items():\n",
    "    sim_res = y_mod.most_similar(positive=np.matmul(x_mod[key], A), topn=10)\n",
    "    preds = [res[0] for res in sim_res]\n",
    "    if value in preds:\n",
    "        correct += 1\n",
    "    print(\n",
    "        f\"{key:<12} | {value:<12}  | {str(preds[0:5]):<54} | {corr(value,preds)}\")\n",
    "    total += 1\n",
    "print(f\"Accuracy: {correct/total:<.2f} {correct} {total}\")\n"
   ]
  },
  {
   "cell_type": "code",
   "execution_count": 46,
   "metadata": {},
   "outputs": [
    {
     "name": "stdout",
     "output_type": "stream",
     "text": [
      "Old          | Modern        | predictions                                            | Accuracy\n",
      "a            | a             | ['up', 'had', 'no', 'sat', 'at']                       | Incorrect\n",
      "i            | i             | ['myself', 'hadn', 'me', 'wouldn', 'afraid']           | Correct\n",
      "it           | it            | ['we', 'my', 'it', 'me', 'apt']                        | Correct\n",
      "but          | but           | ['yet', 'but', 'not', 'apt', 'oft']                    | Correct\n",
      "when         | when          | ['when', 'wasn', 'he']                                 | Correct\n",
      "upon         | upon          | ['alarmed', 'impending', 'terror', 'imminent', 'visibly'] | Incorrect\n",
      "before       | before        | ['altogether', 'despite', 'firstly', 'disappointing', 'previous'] | Incorrect\n",
      "world        | world         | ['worlds']                                             | Incorrect\n",
      "most         | most          | ['most']                                               | Correct\n",
      "think        | think         | ['say', 'really', 'always', 'might', 'seem']           | Correct\n",
      "done         | done          | ['sure', 'anything', 'should', 'whatever', 'else']     | Incorrect\n",
      "poor         | poor          | ['kool']                                               | Incorrect\n",
      "second       | second        | ['second']                                             | Correct\n",
      "light        | light         | ['forever', 'eternal', 'heaven', 'glory', 'unto']      | Incorrect\n",
      "dead         | dead          | ['alive', 'sad', 'dear', 'glad', 'dead']               | Correct\n",
      "off          | off           | ['off', 'out']                                         | Correct\n",
      "scene        | scene         | ['irene']                                              | Incorrect\n",
      "full         | full          | ['gill']                                               | Incorrect\n",
      "use          | use           | ['sure', 'ask', 'ease', 'so', 'use']                   | Correct\n",
      "nay          | no            | ['else', 'perfectly', 'sure', 'if', 'so']              | Correct\n",
      "itself       | itself        | ['essence', 'itself']                                  | Correct\n",
      "save         | save          | ['afraid', 'told', 'knowing', 'saved', 'give']         | Incorrect\n",
      "heard        | heard         | ['heard']                                              | Correct\n",
      "times        | times         | ['times']                                              | Correct\n",
      "woman        | woman         | ['woman', 'herself', 'husband', 'she', 'her']          | Correct\n",
      "Accuracy: 0.60 15 25\n"
     ]
    }
   ],
   "source": [
    "# enhanced prediction with filtering\n",
    "\n",
    "def corr(value,preds):\n",
    "    if value in preds:\n",
    "        return \"Correct\"\n",
    "    else:\n",
    "        return \"Incorrect\"\n",
    "good = 0\n",
    "bad = 0\n",
    "print(f\"Old          | Modern        | {'predictions':<54} | Accuracy\")\n",
    "dist = 2\n",
    "correct = 0\n",
    "total = 0\n",
    "for key, value in test.items():\n",
    "    preds = getPreds(key)\n",
    "    if value in preds:\n",
    "        correct += 1\n",
    "    print(\n",
    "        f\"{key:<12} | {value:<12}  | {str(preds[0:5]):<54} | {corr(value,preds)}\")\n",
    "    total += 1\n",
    "print(f\"Accuracy: {correct/total:<.2f} {correct} {total}\")\n"
   ]
  },
  {
   "cell_type": "code",
   "execution_count": 27,
   "metadata": {},
   "outputs": [],
   "source": [
    "# enhanced filtering\n",
    "\n",
    "# raw_preds = y_mod.most_similar(positive=np.matmul(x_mod[key], A), topn=150)\n",
    "\n",
    "labels = {\n",
    "    0: \"I\",\n",
    "    1: \"D\",\n",
    "    2: \"S\"\n",
    "}\n",
    "def levenshtein(s1, s2):\n",
    "    rows = []\n",
    "\n",
    "    # if len(s1) < len(s2):\n",
    "    #     return levenshtein(s2, s1)\n",
    "\n",
    "    # len(s1) >= len(s2)\n",
    "    if len(s2) == 0:\n",
    "        return len(s1)\n",
    "    previous_row = list(range(len(s2) + 1))\n",
    "    rows.append(previous_row)\n",
    "    for i, c1 in enumerate(s1):\n",
    "        current_row = [i + 1]\n",
    "        for j, c2 in enumerate(s2):\n",
    "            # j+1 instead of j since previous_row and current_row are one character longer\n",
    "            insertions = previous_row[j + 1] + 1\n",
    "            deletions = current_row[j] + 1   \n",
    "            if c1 == c2:\n",
    "                substitutions = previous_row[j] \n",
    "            else:\n",
    "                substitutions = previous_row[j] + 2\n",
    "            current_row.append(min(insertions, deletions, substitutions))\n",
    "        rows.append(current_row)\n",
    "        # ops.append(_ops)\n",
    "        previous_row = current_row\n",
    "    return previous_row[-1], rows\n",
    "\n",
    "def reconstruct(mat,a,b):\n",
    "    \"\"\"\n",
    "    s : src\n",
    "    b : tgt\n",
    "    \"\"\"\n",
    "    _a = \"#\"+a\n",
    "    _b = \"#\"+b\n",
    "    decisions = []\n",
    "\n",
    "    i = len(mat) - 1  # hor\n",
    "    j = len(mat[0]) - 1  # vert\n",
    "    while(i > 0 or j > 0):\n",
    "        prev = mat[i][j]\n",
    "        # print(i,j,mat[i][j])\n",
    "        insertion = deletion = substitution = 0\n",
    "        if j > 0:\n",
    "            insertion = mat[i-1][j]  \n",
    "        if i > 0:\n",
    "            deletion = mat[i][j-1]  \n",
    "        if i > 0 and j > 0:\n",
    "            substitution = mat[i-1][j-1]  \n",
    "        temp = [insertion, deletion, substitution]\n",
    "        best = labels[temp.index(min(temp))]\n",
    "        if best == \"I\":\n",
    "            if i > 0:\n",
    "                i -= 1\n",
    "            else:\n",
    "                i = 0\n",
    "            if prev != mat[i][j]:\n",
    "                decisions.append((\"del\", _a[i+1], _a[i]))\n",
    "        elif best == \"D\":\n",
    "            if j > 0:\n",
    "                j = j-1\n",
    "            else:\n",
    "                 j = 0\n",
    "            if prev != mat[i][j]:\n",
    "                decisions.append((\"Ins\", _b[j+1], _a[i]))\n",
    "        elif best == \"S\":\n",
    "            if i > 0:\n",
    "                i -= 1\n",
    "            else:\n",
    "                i = 0 \n",
    "            if j > 0:\n",
    "                j = j-1\n",
    "            else:\n",
    "                j = 0\n",
    "            if prev != mat[i][j]:\n",
    "                decisions.append((\"Sub\", _a[i+1], _b[j+1]))\n",
    "\n",
    "    decisions.reverse()\n",
    "    return decisions\n"
   ]
  },
  {
   "cell_type": "code",
   "execution_count": null,
   "metadata": {},
   "outputs": [],
   "source": []
  },
  {
   "cell_type": "code",
   "execution_count": 10,
   "metadata": {},
   "outputs": [],
   "source": [
    "def get_edits(src,tgt):\n",
    "    \"\"\"\n",
    "    ***Assumes src and tgt are same length***\n",
    "    \"\"\"\n",
    "    dist, mat = levenshtein(src,tgt)\n",
    "    # print(*mat, sep = \"\\n\")\n",
    "    return reconstruct(mat,src,tgt)\n",
    "    "
   ]
  },
  {
   "cell_type": "code",
   "execution_count": 31,
   "metadata": {},
   "outputs": [
    {
     "data": {
      "text/plain": [
       "[('Ins', 'a', '#'), ('del', 'e', 'd')]"
      ]
     },
     "execution_count": 31,
     "metadata": {},
     "output_type": "execute_result"
    }
   ],
   "source": [
    "get_edits(\"bcde\", \"abcd\")\n"
   ]
  },
  {
   "cell_type": "code",
   "execution_count": 6,
   "metadata": {},
   "outputs": [],
   "source": [
    "def pad(src,tgt):\n",
    "    if len(src) > len(tgt):\n",
    "        return src, tgt.ljust(len(src),\"*\")\n",
    "    elif len(src) < len(tgt):\n",
    "        return src.ljust(len(tgt), \"*\"),tgt\n",
    "    else:\n",
    "        return src,tgt # same size\n",
    "\n",
    "\n",
    "data = []\n",
    "with open(\"translation_seed/data\", encoding=\"utf-8\") as f:\n",
    "    for line in f:\n",
    "        tokens = line.rstrip().replace(\" \", \"\").split(\",\")\n",
    "        data.append((tokens[0], tokens[1]))\n"
   ]
  },
  {
   "cell_type": "code",
   "execution_count": 7,
   "metadata": {},
   "outputs": [
    {
     "data": {
      "text/plain": [
       "{(\"'\", '#'): 4,\n",
       " ('t', '#'): 13,\n",
       " (\"'\", 'e'): 17,\n",
       " ('g', '#'): 4,\n",
       " ('r', '#'): 4,\n",
       " ('f', 'o'): 1,\n",
       " ('i', 's'): 1,\n",
       " ('e', 's'): 2,\n",
       " ('k', '#'): 1,\n",
       " ('n', '#'): 5,\n",
       " ('a', 'b'): 1,\n",
       " ('v', 'o'): 1,\n",
       " ('e', 'y'): 1,\n",
       " ('u', '#'): 5,\n",
       " ('t', 's'): 3,\n",
       " ('r', 'p'): 1,\n",
       " ('i', 'p'): 1,\n",
       " ('t', 'p'): 1,\n",
       " ('h', 'l'): 1,\n",
       " ('a', 'e'): 3,\n",
       " ('s', 'e'): 1,\n",
       " ('e', 't'): 4,\n",
       " ('n', 't'): 3,\n",
       " ('m', 's'): 1,\n",
       " ('t', 'e'): 4,\n",
       " ('h', 'e'): 3,\n",
       " ('i', 'e'): 3,\n",
       " ('n', 'e'): 2,\n",
       " ('k', 'm'): 1,\n",
       " ('w', 't'): 1,\n",
       " ('a', '#'): 1,\n",
       " ('n', 's'): 1,\n",
       " ('o', 'o'): 2,\n",
       " ('s', 'd'): 3,\n",
       " ('t', 'd'): 4,\n",
       " ('o', 'u'): 1,\n",
       " ('h', '#'): 5,\n",
       " ('e', 'f'): 1,\n",
       " ('n', 'r'): 3,\n",
       " ('c', 'o'): 1,\n",
       " ('e', 'm'): 1,\n",
       " ('d', '#'): 3,\n",
       " ('o', '#'): 4,\n",
       " ('c', '#'): 4,\n",
       " ('w', 'm'): 1,\n",
       " ('r', 'e'): 4,\n",
       " ('i', 'n'): 1,\n",
       " ('e', 'o'): 3,\n",
       " ('i', 'l'): 1,\n",
       " ('g', 'r'): 1,\n",
       " ('e', 'd'): 2,\n",
       " ('e', '#'): 3,\n",
       " ('v', '#'): 2,\n",
       " ('w', 'e'): 2,\n",
       " ('i', 'r'): 1,\n",
       " ('e', 'l'): 1,\n",
       " ('s', 'l'): 2,\n",
       " ('k', 'o'): 1,\n",
       " ('y', '#'): 1,\n",
       " ('d', 'h'): 1,\n",
       " ('e', 'r'): 3,\n",
       " (\"'\", 'w'): 1,\n",
       " ('s', 'w'): 1,\n",
       " ('t', 'w'): 1,\n",
       " ('x', 'e'): 2,\n",
       " ('t', 'n'): 5,\n",
       " (\"'\", 'k'): 1,\n",
       " ('s', 'y'): 1,\n",
       " ('t', 'y'): 2,\n",
       " ('h', 'y'): 2,\n",
       " ('o', 'y'): 3,\n",
       " ('u', 'y'): 3,\n",
       " ('r', 'y'): 2,\n",
       " ('e', 'u'): 1,\n",
       " ('h', 'o'): 2,\n",
       " ('t', 'v'): 1,\n",
       " ('p', '#'): 2,\n",
       " ('e', 'x'): 1,\n",
       " ('u', 'x'): 1,\n",
       " ('n', 'i'): 2,\n",
       " ('s', 'v'): 1,\n",
       " ('i', 'u'): 2,\n",
       " (\"'\", 'v'): 3,\n",
       " ('y', 'h'): 1,\n",
       " ('t', 'l'): 1,\n",
       " ('h', 't'): 1,\n",
       " ('o', 'i'): 1,\n",
       " ('u', 'd'): 1,\n",
       " ('i', '#'): 6,\n",
       " ('o', 't'): 1,\n",
       " ('h', 'w'): 1,\n",
       " ('e', 'a'): 1,\n",
       " ('d', 'r'): 1,\n",
       " ('a', 'r'): 2,\n",
       " ('l', 'i'): 1,\n",
       " ('s', 'f'): 2,\n",
       " ('d', 'i'): 1,\n",
       " ('o', 'v'): 1,\n",
       " ('e', 'h'): 1,\n",
       " (\"'\", 'h'): 1,\n",
       " ('s', 'n'): 1,\n",
       " ('a', 's'): 1,\n",
       " (\"'\", 's'): 1,\n",
       " (\"'\", 'n'): 2,\n",
       " (\"'\", 'o'): 2,\n",
       " ('t', 'o'): 3,\n",
       " ('b', '#'): 1,\n",
       " (\"'\", 'r'): 1,\n",
       " ('t', 'r'): 1,\n",
       " ('m', 'o'): 1,\n",
       " ('u', 'i'): 1,\n",
       " ('g', 's'): 1,\n",
       " ('s', 'o'): 1,\n",
       " ('h', 's'): 3,\n",
       " ('d', 'm'): 1,\n",
       " ('f', 'v'): 1,\n",
       " ('f', 'e'): 1,\n",
       " ('l', '#'): 2,\n",
       " ('a', 't'): 1,\n",
       " ('k', 'n'): 1,\n",
       " ('n', 'a'): 1,\n",
       " ('g', 't'): 2,\n",
       " ('i', 'h'): 2,\n",
       " ('n', 'h'): 1,\n",
       " ('t', 'g'): 2,\n",
       " ('w', '#'): 2,\n",
       " ('s', 'h'): 1,\n",
       " ('a', 'o'): 1,\n",
       " ('n', 'u'): 1,\n",
       " ('s', 't'): 1,\n",
       " ('t', 'h'): 1,\n",
       " ('h', 'h'): 1,\n",
       " ('b', 'u'): 1,\n",
       " ('r', 's'): 1,\n",
       " ('f', 'l'): 1,\n",
       " ('i', 'a'): 1,\n",
       " ('n', 'd'): 1,\n",
       " ('a', 'n'): 1,\n",
       " ('y', 'o'): 1,\n",
       " ('e', 'n'): 1,\n",
       " ('g', 'w'): 1,\n",
       " ('s', '#'): 1,\n",
       " ('l', 't'): 3,\n",
       " ('v', 'm'): 1,\n",
       " ('y', 'e'): 1,\n",
       " ('r', 'i'): 1,\n",
       " ('o', 'n'): 1,\n",
       " ('w', 'g'): 1,\n",
       " ('p', 'e'): 1,\n",
       " ('t', 'a'): 1,\n",
       " ('g', 'c'): 1,\n",
       " ('i', 't'): 1,\n",
       " ('c', 't'): 1,\n",
       " ('r', 'r'): 1,\n",
       " ('h', 'r'): 1,\n",
       " ('r', 't'): 1,\n",
       " ('a', 'h'): 1,\n",
       " ('m', 'i'): 1,\n",
       " ('e', 'i'): 1}"
      ]
     },
     "execution_count": 7,
     "metadata": {},
     "output_type": "execute_result"
    }
   ],
   "source": [
    "freq_table = {} # contains (src_letter, tgt_letter, frequency)\n",
    "for src,tgt in data:\n",
    "    edits = get_edits(src,tgt)\n",
    "    for edit in edits:\n",
    "        if (edit[1], edit[2]) not in freq_table:\n",
    "            freq_table[(edit[1], edit[2])] = 1\n",
    "        else:\n",
    "            freq_table[(edit[1], edit[2])] += 1\n",
    "freq_table"
   ]
  },
  {
   "cell_type": "code",
   "execution_count": 223,
   "metadata": {},
   "outputs": [
    {
     "name": "stdout",
     "output_type": "stream",
     "text": [
      "[0.0, 0.0, 0.0, 0.0]\n",
      "[0, 1, 2, 3]\n",
      "[0.0, 0.0, 0.0, 0.0]\n",
      "[0.0, 0.0, 0.0, 0.0]\n",
      "[0.0, 0.0, 0.0, 0.0]\n",
      "[1, 0.01, 0.02]\n",
      "[2, 0.01, 0.01]\n",
      "----------\n",
      "[0.0, 0.0, 0.0, 0.0]\n",
      "[0, 1, 2, 3]\n",
      "[0.0, 0.0, 0.0, 0.0]\n",
      "[0.0, 0.0, 0.0, 0.0]\n",
      "[0.0, 0.0, 0.0, 0.0]\n",
      "[1, 1, 1.01]\n",
      "[2, 0.01, 0.01]\n"
     ]
    }
   ],
   "source": [
    "import math\n",
    "\n",
    "\n",
    "def get_score(a, b, freq_table):\n",
    "    if(a, b) in freq_table:\n",
    "        return freq_table[(a, b)]\n",
    "    else:\n",
    "        return 0.01\n",
    "\n",
    "\n",
    "def lev(s1, s2):\n",
    "    rows = []\n",
    "\n",
    "    previous_row = [0]\n",
    "    for i in range(1, len(s2)+1):\n",
    "        previous_row.append(i)\n",
    "    rows.append(previous_row)\n",
    "    previous_row = [math.log(1)]\n",
    "\n",
    "    for i in range(1, len(s2)+1):\n",
    "        insert = rows[0][i]\n",
    "        delete = previous_row[i-1]\n",
    "        sub = rows[0][i-1]\n",
    "        previous_row.append(min(insert, delete, sub))\n",
    "        rows.append(previous_row)\n",
    "    print(previous_row)\n",
    "    for i in range(1, len(s1)):\n",
    "        current_row = [i]\n",
    "        for j in range(1, len(s2)):\n",
    "            insert = get_score(s1[j], s2[i-1], freq_table) + rows[i-1][j]\n",
    "            delete = get_score(s1[j-1], s2[i], freq_table) + current_row[j-1]\n",
    "            sub = get_score(s1[j-1], s2[i-1], freq_table) + rows[i-1][j-1]\n",
    "            current_row.append(min(insert, delete, sub))\n",
    "        rows.append(current_row)\n",
    "\n",
    "    return rows, rows[-1][-1]\n",
    "\n",
    "\n",
    "print(*lev(\"car\", \"bar\")[0], sep=\"\\n\")\n",
    "print(\"-\"*10)\n",
    "print(*lev(\"car\", \"tar\")[0], sep=\"\\n\")\n"
   ]
  },
  {
   "cell_type": "code",
   "execution_count": 218,
   "metadata": {},
   "outputs": [
    {
     "name": "stdout",
     "output_type": "stream",
     "text": [
      "[0, 1, 2, 3]\n",
      "[0.0, 0.0, 0.0, 0.6931471805599453, 0.0, 1.0986122886681098, 0.0]\n",
      "[0.0, 0.0, 0.0, 0.6931471805599453, 0.0, 1.0986122886681098, 0.0]\n",
      "[0.0, 0.0, 0.0, 0.6931471805599453, 0.0, 1.0986122886681098, 0.0]\n",
      "[1, 0.01, 0.02]\n",
      "[2, 0.01, 0.01]\n",
      "[0, 1, 2, 3]\n",
      "[0.0, 0.0, 0.0, 0.6931471805599453, 0.0, 1.0986122886681098, 0.0]\n",
      "[0.0, 0.0, 0.0, 0.6931471805599453, 0.0, 1.0986122886681098, 0.0]\n",
      "[0.0, 0.0, 0.0, 0.6931471805599453, 0.0, 1.0986122886681098, 0.0]\n",
      "[1, 1, 1.01]\n",
      "[2, 0.01, 0.01]\n"
     ]
    }
   ],
   "source": [
    "\n"
   ]
  },
  {
   "cell_type": "code",
   "execution_count": 1,
   "metadata": {},
   "outputs": [
    {
     "ename": "NameError",
     "evalue": "name 'freq_table' is not defined",
     "output_type": "error",
     "traceback": [
      "\u001b[1;31m---------------------------------------------------------------------------\u001b[0m",
      "\u001b[1;31mNameError\u001b[0m                                 Traceback (most recent call last)",
      "\u001b[1;32mc:\\Users\\bsais\\Repos\\unsup_trans_textnorm\\Fall 2021\\mikolov.ipynb Cell 22'\u001b[0m in \u001b[0;36m<module>\u001b[1;34m\u001b[0m\n\u001b[1;32m----> <a href='vscode-notebook-cell:/c%3A/Users/bsais/Repos/unsup_trans_textnorm/Fall%202021/mikolov.ipynb#ch0000032?line=0'>1</a>\u001b[0m freq_table\n",
      "\u001b[1;31mNameError\u001b[0m: name 'freq_table' is not defined"
     ]
    }
   ],
   "source": [
    "freq_table"
   ]
  },
  {
   "cell_type": "markdown",
   "metadata": {},
   "source": [
    "# Plotting"
   ]
  },
  {
   "cell_type": "code",
   "execution_count": null,
   "metadata": {},
   "outputs": [
    {
     "data": {
      "image/png": "[encoded data removed]",
      "text/plain": [
       "<Figure size 432x288 with 1 Axes>"
      ]
     },
     "metadata": {
      "needs_background": "light"
     },
     "output_type": "display_data"
    }
   ],
   "source": [
    "import matplotlib.pyplot as plt\n",
    "sz = len(lossList)\n",
    "plt.plot(np.linspace(1, sz, sz), lossList[:sz])\n",
    "\n",
    "plt.ylabel(\"Loss\")\n",
    "plt.xlabel(\"steps\")\n",
    "plt.show()\n",
    "\n",
    "# print(lossList)\n",
    "\n"
   ]
  },
  {
   "cell_type": "markdown",
   "metadata": {},
   "source": [
    "# PCA"
   ]
  },
  {
   "cell_type": "code",
   "execution_count": null,
   "metadata": {},
   "outputs": [
    {
     "data": {
      "image/png": "[encoded data removed]",
      "text/plain": [
       "<Figure size 864x288 with 2 Axes>"
      ]
     },
     "metadata": {
      "needs_background": "light"
     },
     "output_type": "display_data"
    }
   ],
   "source": [
    "import math\n",
    "from sklearn.preprocessing import MinMaxScaler\n",
    "scaler = MinMaxScaler()\n",
    "\n",
    "def rotate(origin, point, angle):\n",
    "    \"\"\"\n",
    "    Rotate a point counterclockwise by a given angle around a given origin.\n",
    "\n",
    "    The angle should be given in radians.\n",
    "    \"\"\"\n",
    "    ox, oy = origin\n",
    "    px, py = point\n",
    "\n",
    "    qx = ox + math.cos(angle) * (px - ox) - math.sin(angle) * (py - oy)\n",
    "    qy = oy + math.sin(angle) * (px - ox) + math.cos(angle) * (py - oy)\n",
    "    return qx, qy\n",
    "\n",
    "from sklearn import decomposition\n",
    "pca = decomposition.PCA(n_components=2)\n",
    "\n",
    "pltDatX = []\n",
    "pltDatX.append(np.matmul(A,x_mod[\"king\"]))\n",
    "pltDatX.append(np.matmul(A, x_mod[\"queen\"]))\n",
    "pltDatX.append(np.matmul(A,x_mod[\"man\"]))\n",
    "pltDatX.append(np.matmul(A,x_mod[\"woman\"]))\n",
    "pltDatX.append(np.matmul(A, x_mod[\"lady\"]))\n",
    "pltDatX.append(np.matmul(A,x_mod[\"prince\"]))\n",
    "pltDatX.append(np.matmul(A, x_mod[\"son\"]))\n",
    "pltDatX.append(np.matmul(A, x_mod[\"daughter\"]))\n",
    "pltDatX.append(np.matmul(A, x_mod[\"princess\"]))\n",
    "\n",
    "\n",
    "pltDatX = np.asarray(pltDatX)\n",
    "pltDatY = []\n",
    "pltDatY.append(y_mod[\"king\"])\n",
    "pltDatY.append(y_mod[\"queen\"])\n",
    "pltDatY.append(y_mod[\"man\"])\n",
    "pltDatY.append(y_mod[\"woman\"])\n",
    "pltDatY.append(y_mod[\"lady\"])\n",
    "pltDatY.append(y_mod[\"prince\"])\n",
    "pltDatY.append(y_mod[\"son\"])\n",
    "pltDatY.append(y_mod[\"daughter\"])\n",
    "pltDatY.append(y_mod[\"princess\"])\n",
    "\n",
    "\n",
    "pltDatY = np.asarray(pltDatY)\n",
    "\n",
    "xPlt = pca.fit_transform(pltDatX)\n",
    "\n",
    "yPlt = pca.fit_transform(pltDatY)\n",
    "yPlt = scaler.fit_transform(yPlt)\n",
    "\n",
    "lbls = [\"king\", \"man\", \"queen\", \"woman\", \"lady\", \"prince\", \"son\", \"daughter\", \"princess\"]\n",
    "\n",
    "for i in range(len(xPlt)):\n",
    "    xPlt[i] = rotate((0, 0), xPlt[i], 90)\n",
    "xPlt = scaler.fit_transform(xPlt)\n",
    "\n",
    "fig, ax = plt.subplots(1, 2, figsize=(12, 4))\n",
    "ax[0].scatter(xPlt[:, 0], xPlt[:, 1])\n",
    "for i in range(len(lbls)):\n",
    "    ax[0].annotate(lbls[i], xy=tuple((xPlt[i][0], xPlt[i][1])))\n",
    "ax[0].set_title(\"Old English\")\n",
    "ax[0].set_xlim([-.03, 1.09])\n",
    "\n",
    "ax[1].scatter(yPlt[:, 0], yPlt[:, 1])\n",
    "for i in range(len(lbls)):\n",
    "    ax[1].annotate(lbls[i], xy=tuple((yPlt[i][0], yPlt[i][1])))\n",
    "ax[1].set_xlim([-.03, 1.09])\n",
    "ax[1].set_title(\"Modern English\")\n",
    "\n",
    "plt.show()\n",
    "\n"
   ]
  },
  {
   "cell_type": "code",
   "execution_count": null,
   "metadata": {},
   "outputs": [
    {
     "name": "stdout",
     "output_type": "stream",
     "text": [
      "Modern English\n",
      "Closest Words to 'you'\n",
      "Word       | Cosine Similarity\n",
      "your       | 0.9051563143730164\n",
      "yourself   | 0.8358600735664368\n",
      "want       | 0.8287676572799683\n",
      "me         | 0.8240900039672852\n",
      "know       | 0.8135313987731934\n",
      "my         | 0.8076769709587097\n",
      "think      | 0.7875840663909912\n",
      "don        | 0.7871814370155334\n",
      "ve         | 0.7817865610122681\n",
      "sure       | 0.7751867175102234\n"
     ]
    }
   ],
   "source": [
    "word = \"you\"\n",
    "sims = y_mod.most_similar(word)\n",
    "print(f\"Modern English\\nClosest Words to '{word}'\")\n",
    "print(f\"{'Word':<10} | Cosine Similarity\")\n",
    "for term in sims:\n",
    "    print(f\"{term[0]:<10} | {term[1]}\")\n"
   ]
  },
  {
   "cell_type": "code",
   "execution_count": null,
   "metadata": {},
   "outputs": [
    {
     "name": "stdout",
     "output_type": "stream",
     "text": [
      "Old English\n",
      "Closest Words to 'thee'\n",
      "Word       | Cosine Similarity\n",
      "me         | 0.6312958598136902\n",
      "thy        | 0.608566403388977\n",
      "thyself    | 0.5922002792358398\n",
      "livest     | 0.5115377306938171\n",
      "diest      | 0.5095685720443726\n",
      "thee'      | 0.4797373414039612\n",
      "oughtest   | 0.47950685024261475\n",
      "mayst      | 0.4789367914199829\n",
      "shouldst   | 0.4696946442127228\n",
      "couldst    | 0.4601978063583374\n"
     ]
    }
   ],
   "source": [
    "word = \"thee\"\n",
    "sims = x_mod.most_similar(word)\n",
    "print(f\"Old English\\nClosest Words to '{word}'\")\n",
    "print(f\"{'Word':<10} | Cosine Similarity\")\n",
    "for term in sims:\n",
    "    print(f\"{term[0]:<10} | {term[1]}\")\n"
   ]
  },
  {
   "cell_type": "code",
   "execution_count": null,
   "metadata": {},
   "outputs": [
    {
     "ename": "AttributeError",
     "evalue": "'list' object has no attribute 'shape'",
     "output_type": "error",
     "traceback": [
      "\u001b[1;31m---------------------------------------------------------------------------\u001b[0m",
      "\u001b[1;31mAttributeError\u001b[0m                            Traceback (most recent call last)",
      "\u001b[1;32m~\\AppData\\Local\\Temp/ipykernel_31468/2777328618.py\u001b[0m in \u001b[0;36m<module>\u001b[1;34m\u001b[0m\n\u001b[0;32m     21\u001b[0m \u001b[1;31m# xPlt[:,0]\u001b[0m\u001b[1;33m\u001b[0m\u001b[1;33m\u001b[0m\u001b[1;33m\u001b[0m\u001b[0m\n\u001b[0;32m     22\u001b[0m \u001b[0mplt\u001b[0m\u001b[1;33m.\u001b[0m\u001b[0mscatter\u001b[0m\u001b[1;33m(\u001b[0m\u001b[0mxPlt\u001b[0m\u001b[1;33m[\u001b[0m\u001b[1;33m:\u001b[0m\u001b[1;33m,\u001b[0m \u001b[1;36m0\u001b[0m\u001b[1;33m]\u001b[0m\u001b[1;33m,\u001b[0m \u001b[0mxPlt\u001b[0m\u001b[1;33m[\u001b[0m\u001b[1;33m:\u001b[0m\u001b[1;33m,\u001b[0m \u001b[1;36m1\u001b[0m\u001b[1;33m]\u001b[0m\u001b[1;33m)\u001b[0m\u001b[1;33m\u001b[0m\u001b[1;33m\u001b[0m\u001b[0m\n\u001b[1;32m---> 23\u001b[1;33m \u001b[0mprint\u001b[0m\u001b[1;33m(\u001b[0m\u001b[0mpltDatX\u001b[0m\u001b[1;33m.\u001b[0m\u001b[0mshape\u001b[0m\u001b[1;33m)\u001b[0m\u001b[1;33m\u001b[0m\u001b[1;33m\u001b[0m\u001b[0m\n\u001b[0m",
      "\u001b[1;31mAttributeError\u001b[0m: 'list' object has no attribute 'shape'"
     ]
    },
    {
     "data": {
      "image/png": "[encoded data removed]",
      "text/plain": [
       "<Figure size 432x288 with 1 Axes>"
      ]
     },
     "metadata": {
      "needs_background": "light"
     },
     "output_type": "display_data"
    }
   ],
   "source": [
    "from sklearn import decomposition\n",
    "X = A\n",
    "pca = decomposition.PCA(n_components=2)\n",
    "pca.fit(X)\n",
    "X = pca.transform(A)\n",
    "\n",
    "pltDatX = []\n",
    "pltDatY = []\n",
    "\n",
    "pltDatX.append(x_mod[\"cat\"])\n",
    "pltDatX.append(x_mod[\"dog\"])\n",
    "pltDatX.append(x_mod[\"pig\"])\n",
    "pltDatY.append(x_mod[\"cat\"])\n",
    "pltDatY.append(x_mod[\"dog\"])\n",
    "pltDatY.append(x_mod[\"pig\"])\n",
    "lbls = [\"cat\", \"dog\", \"pig\"]\n",
    "xPlt = pca.fit_transform(xVals)\n",
    "yPlt = pca.fit_transform(yVals)\n",
    "xPlt2 = pca.fit_transform(np.matmul(xVals,A))\n",
    "# print(xPlt)\n",
    "# xPlt[:,0]\n",
    "\n"
   ]
  },
  {
   "cell_type": "code",
   "execution_count": null,
   "metadata": {},
   "outputs": [
    {
     "data": {
      "image/png": "[encoded data removed]",
      "text/plain": [
       "<Figure size 432x288 with 1 Axes>"
      ]
     },
     "metadata": {
      "needs_background": "light"
     },
     "output_type": "display_data"
    }
   ],
   "source": [
    "x = [] #original\n",
    "y = []\n",
    "for i in range(5):\n",
    "    x.append(xPlt[i][0])\n",
    "    y.append(xPlt[i][1])\n",
    "\n",
    "x2 = [] #y vals\n",
    "y2 = []\n",
    "for i in range(5):\n",
    "    x2.append(yPlt[i][0])\n",
    "    y2.append(yPlt[i][1])\n",
    "\n",
    "# print(xPlt.iloc[:][0])\n",
    "plt.scatter(x,y, alpha=.5)\n",
    "plt.scatter(x2, y2, alpha=.5)\n",
    "\n",
    "plt.show()\n",
    "# plt.scatter(xPlt2, yPlt, alpha = .5)\n",
    "# plt.show()\n"
   ]
  },
  {
   "cell_type": "code",
   "execution_count": null,
   "metadata": {},
   "outputs": [],
   "source": [
    "f = open(\"translation_seed/data3\")\n",
    "dat = []\n",
    "for i in range(5):\n",
    "    line = f.readline()\n",
    "    dat.append(line.split(\",\")[0].rstrip())\n"
   ]
  },
  {
   "cell_type": "code",
   "execution_count": null,
   "metadata": {},
   "outputs": [
    {
     "data": {
      "image/png": "[encoded data removed]",
      "text/plain": [
       "<Figure size 432x288 with 1 Axes>"
      ]
     },
     "metadata": {
      "needs_background": "light"
     },
     "output_type": "display_data"
    },
    {
     "data": {
      "image/png": "[encoded data removed]",
      "text/plain": [
       "<Figure size 432x288 with 1 Axes>"
      ]
     },
     "metadata": {
      "needs_background": "light"
     },
     "output_type": "display_data"
    }
   ],
   "source": [
    "x3 = []\n",
    "y3 = []\n",
    "for i in range(5):\n",
    "    x3.append(xPlt2[i][0])\n",
    "    y3.append(xPlt2[i][1])\n",
    "\n",
    "# plt.scatter(x, y, alpha=.5, color = \"red\", label = \"original\")\n",
    "plt.scatter(x3, y3, alpha=.5, color = \"orange\", label = \"transformed\")\n",
    "# plt.show()\n",
    "# plt.scatter(x2, y2, alpha=.5, color = \"green\", label = \"target\")\n",
    "\n",
    "for i in range(3):\n",
    "    # plt.annotate(dat[i], (x[i],y[i]))\n",
    "    # plt.annotate(dat[i], (x2[i], y2[i]))\n",
    "    plt.annotate(lbls[i], (x3[i], y3[i]))\n",
    "\n",
    "plt.legend()\n",
    "plt.show()\n",
    "\n",
    "# plt.scatter(x, y, alpha=.5, color = \"red\", label = \"original\")\n",
    "# plt.scatter(x3, y3, alpha=.5, color=\"orange\", label=\"transformed\")\n",
    "# plt.show()\n",
    "plt.scatter(x2, y2, alpha=.5, color = \"green\", label = \"target\")\n",
    "\n",
    "for i in range(3):\n",
    "    # plt.annotate(dat[i], (x[i],y[i]))\n",
    "    plt.annotate(lbls[i], (x2[i], y2[i]))\n",
    "    # plt.annotate(dat[i], (x3[i], y3[i]))\n",
    "\n",
    "plt.legend()\n",
    "plt.show()\n"
   ]
  },
  {
   "cell_type": "code",
   "execution_count": null,
   "metadata": {},
   "outputs": [],
   "source": []
  }
 ],
 "metadata": {
  "kernelspec": {
   "display_name": "Python 3.9.12 64-bit",
   "language": "python",
   "name": "python3"
  },
  "language_info": {
   "codemirror_mode": {
    "name": "ipython",
    "version": 3
   },
   "file_extension": ".py",
   "mimetype": "text/x-python",
   "name": "python",
   "nbconvert_exporter": "python",
   "pygments_lexer": "ipython3",
   "version": "3.9.12"
  },
  "orig_nbformat": 4,
  "vscode": {
   "interpreter": {
    "hash": "f23142532d78608b12f078ad322694af0562edee58a77278ac53c8cc9f585c13"
   }
  }
 },
 "nbformat": 4,
 "nbformat_minor": 2
}
